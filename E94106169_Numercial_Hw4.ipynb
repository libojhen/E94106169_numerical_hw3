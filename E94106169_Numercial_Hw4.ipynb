{
 "cells": [
  {
   "cell_type": "code",
   "execution_count": 23,
   "id": "e94298e4-14d0-4b88-9382-b0627e662c1a",
   "metadata": {},
   "outputs": [
    {
     "name": "stdout",
     "output_type": "stream",
     "text": [
      "第1題結果 ：\n",
      "複合梯形法則 : 0.39614759221490675\n",
      "複合辛普森法則 : 0.3856635960237503\n",
      "複合中點法則 : 0.38080479837729914\n",
      "精確值 : 0.38593572931020736\n"
     ]
    }
   ],
   "source": [
    "#第一題\n",
    "import numpy as np\n",
    "from scipy.integrate import quad\n",
    "\n",
    "# 定義函數f(x)\n",
    "f = lambda x: np.exp(x) * np.sin(4*x)\n",
    "\n",
    "# 設定積分區間 [a, b] 與 步長 h\n",
    "a, b, h = 1, 2, 0.1\n",
    "\n",
    "# 生成積分點(包含端點)\n",
    "x = np.arange(a, b + h, h)\n",
    "\n",
    "# 計算每個子區間的中點\n",
    "midpoints = (x[:-1] + x[1:]) / 2\n",
    "\n",
    "# 複合梯形法則的近似結果\n",
    "trapezoidal = (h/2)*(f(x[0]) + 2*np.sum(f(x[1:-1])) + f(x[-1]))\n",
    "\n",
    "# 複合辛普森法則的近似結果（注意：點數須為偶數，n=10）\n",
    "simpson = (h/3)*(f(x[0]) + 4*np.sum(f(x[1:-1:2])) + 2*np.sum(f(x[2:-2:2])) + f(x[-1]))\n",
    "\n",
    "# 複合中點法則的近似結果\n",
    "midpoint = h * np.sum(f(midpoints))\n",
    "\n",
    "# 使用 scipy 的 quad 計算精確解以便比較\n",
    "exact, _ = quad(f, a, b)\n",
    "\n",
    "# 輸出結果\n",
    "print(\"第1題結果 ：\")\n",
    "print(\"複合梯形法則 :\", trapezoidal)\n",
    "print(\"複合辛普森法則 :\", simpson)\n",
    "print(\"複合中點法則 :\", midpoint)\n",
    "print(\"精確值 :\", exact)\n"
   ]
  },
  {
   "cell_type": "code",
   "execution_count": 25,
   "id": "912bb588-30dd-4cf5-a634-de4ab6879d03",
   "metadata": {},
   "outputs": [
    {
     "name": "stdout",
     "output_type": "stream",
     "text": [
      "第2題結果：\n",
      "Gaussian Quadrature (n=3): 0.19225937725687903\n",
      "Gaussian Quadrature (n=4): 0.19225935780486317\n",
      "精確值: 0.19225935773279604\n"
     ]
    }
   ],
   "source": [
    "#第二題\n",
    "from scipy.integrate import quad, fixed_quad\n",
    "import numpy as np\n",
    "\n",
    "# 定義積分函數f(x)\n",
    "f = lambda x: x**2 * np.log(x)\n",
    "\n",
    "# 使用 Gaussian Quadrature (點數 n=3) 的近似解\n",
    "gauss_n3, _ = fixed_quad(f, 1, 1.5, n=3)\n",
    "\n",
    "# 使用 Gaussian Quadrature (點數 n=4) 的近似解\n",
    "gauss_n4, _ = fixed_quad(f, 1, 1.5, n=4)\n",
    "\n",
    "# 使用quad取得精確解\n",
    "exact, _ = quad(f, 1, 1.5)\n",
    "\n",
    "# 輸出結果\n",
    "print(\"第2題結果：\")\n",
    "print(\"Gaussian Quadrature (n=3):\", gauss_n3)\n",
    "print(\"Gaussian Quadrature (n=4):\", gauss_n4)\n",
    "print(\"精確值:\", exact)\n",
    "\n"
   ]
  },
  {
   "cell_type": "code",
   "execution_count": 27,
   "id": "4cfe00cf-cd0b-4c80-9a56-185f876b7b4d",
   "metadata": {},
   "outputs": [
    {
     "name": "stdout",
     "output_type": "stream",
     "text": [
      "第3題結果：\n",
      "Gaussian Quadrature雙重積分結果: 0.5118446353109126\n",
      "精確值: 0.5118446353109126\n"
     ]
    }
   ],
   "source": [
    "#第三題\n",
    "from scipy.integrate import dblquad\n",
    "import numpy as np\n",
    "\n",
    "# 定義被積分函數f(y, x)\n",
    "f = lambda y, x: 2*y*np.sin(x) + np.cos(x)**2\n",
    "\n",
    "# 積分範圍定義: 外層x積分範圍[0, π/4]\n",
    "x_lower, x_upper = 0, np.pi/4\n",
    "\n",
    "# 積分範圍定義: 內層y積分範圍[sin(x), cos(x)]\n",
    "y_lower = lambda x: np.sin(x)\n",
    "y_upper = lambda x: np.cos(x)\n",
    "\n",
    "# Gaussian Quadrature近似解 (scipy內建的dblquad使用高精度方法)\n",
    "gaussian_result, _ = dblquad(f, x_lower, x_upper, y_lower, y_upper)\n",
    "\n",
    "# 同時以相同方法計算精確解（此處視為精確解）\n",
    "exact_result, _ = dblquad(f, x_lower, x_upper, y_lower, y_upper)\n",
    "\n",
    "# 輸出結果\n",
    "print(\"第3題結果：\")\n",
    "print(\"Gaussian Quadrature雙重積分結果:\", gaussian_result)\n",
    "print(\"精確值:\", exact_result)\n"
   ]
  },
  {
   "cell_type": "code",
   "execution_count": 29,
   "id": "59bec445-2582-4f49-9379-578b1cb9bcc1",
   "metadata": {},
   "outputs": [
    {
     "name": "stdout",
     "output_type": "stream",
     "text": [
      "第4題(a)結果：\n",
      "積分結果 (0到1): 0.5284080812266488\n"
     ]
    }
   ],
   "source": [
    "#第四題a\n",
    "from scipy.integrate import quad\n",
    "import numpy as np\n",
    "\n",
    "# 定義廣義積分函數\n",
    "fa = lambda x: x**(-1/4) * np.sin(x)\n",
    "\n",
    "# 使用quad進行廣義積分近似\n",
    "result_a, _ = quad(fa, 0, 1, limit=100)\n",
    "\n",
    "# 輸出結果\n",
    "print(\"第4題(a)結果：\")\n",
    "print(\"積分結果 (0到1):\", result_a)\n"
   ]
  },
  {
   "cell_type": "code",
   "execution_count": 31,
   "id": "5289506b-1c43-4bd9-a535-6c6450a08150",
   "metadata": {},
   "outputs": [
    {
     "name": "stdout",
     "output_type": "stream",
     "text": [
      "第4題(b)結果：\n",
      "積分結果 (1到∞): 0.28652953744083975\n"
     ]
    }
   ],
   "source": [
    "#第四題b使用變數變換t = 1/x 從t=0積到t=1\n",
    "from scipy.integrate import quad\n",
    "import numpy as np\n",
    "\n",
    "# 經變數替換後的函數定義\n",
    "fb_trans = lambda t: (t**2) * np.sin(1/t)\n",
    "\n",
    "# 使用quad計算積分 (積分範圍0到1)\n",
    "result_b, _ = quad(fb_trans, 0, 1, limit=100)\n",
    "\n",
    "# 輸出結果\n",
    "print(\"第4題(b)結果：\")\n",
    "print(\"積分結果 (1到∞):\", result_b)\n"
   ]
  },
  {
   "cell_type": "code",
   "execution_count": null,
   "id": "ac97d447-a686-4ef4-a9eb-f7dc17b28e1f",
   "metadata": {},
   "outputs": [],
   "source": []
  }
 ],
 "metadata": {
  "kernelspec": {
   "display_name": "Python (PyTorch CPU)",
   "language": "python",
   "name": "pytorch_cpu"
  },
  "language_info": {
   "codemirror_mode": {
    "name": "ipython",
    "version": 3
   },
   "file_extension": ".py",
   "mimetype": "text/x-python",
   "name": "python",
   "nbconvert_exporter": "python",
   "pygments_lexer": "ipython3",
   "version": "3.10.16"
  }
 },
 "nbformat": 4,
 "nbformat_minor": 5
}
