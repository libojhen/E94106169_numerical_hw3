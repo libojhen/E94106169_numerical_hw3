{
 "cells": [
  {
   "cell_type": "code",
   "execution_count": 2,
   "id": "26688c27-9e13-4353-a7a4-1d0b019a8882",
   "metadata": {},
   "outputs": [
    {
     "name": "stdout",
     "output_type": "stream",
     "text": [
      "          Interpolated Value  True Value  Error Bound\n",
      "Degree 1            0.732077    0.731689     0.000388\n",
      "Degree 2            0.731716    0.731689     0.000027\n",
      "Degree 3            0.731704    0.731689     0.000015\n"
     ]
    }
   ],
   "source": [
    "import numpy as np\n",
    "import pandas as pd\n",
    "from scipy.interpolate import lagrange\n",
    "\n",
    "# 給定的數據點\n",
    "x_points = np.array([0.698, 0.733, 0.768, 0.803])\n",
    "y_points = np.array([0.7661, 0.7432, 0.7193, 0.6946])\n",
    "\n",
    "# 真實值\n",
    "true_value = np.cos(0.750)\n",
    "\n",
    "# 插值多項式階數\n",
    "degrees = [1, 2, 3]\n",
    "interpolated_values = {}\n",
    "\n",
    "# 計算拉格朗日插值\n",
    "for degree in degrees:\n",
    "    poly = lagrange(x_points[:degree+1], y_points[:degree+1])\n",
    "    interpolated_values[f'Degree {degree}'] = poly(0.750)\n",
    "\n",
    "# 計算誤差邊界\n",
    "error_bounds = {degree: abs(interpolated_values[degree] - true_value) for degree in interpolated_values}\n",
    "\n",
    "# 整理並顯示結果\n",
    "results_df = pd.DataFrame({\n",
    "    'Interpolated Value': interpolated_values,\n",
    "    'True Value': true_value,\n",
    "    'Error Bound': error_bounds\n",
    "})\n",
    "\n",
    "print(results_df)\n"
   ]
  },
  {
   "cell_type": "code",
   "execution_count": 1,
   "id": "9cffd828-3464-42b3-802b-9519cd5a423b",
   "metadata": {},
   "outputs": [
    {
     "name": "stdout",
     "output_type": "stream",
     "text": [
      "          Interpolated Root  True Root  Error Bound\n",
      "Degree 1           0.546354   0.567143     0.020789\n",
      "Degree 2           0.566262   0.567143     0.000882\n",
      "Degree 3           0.567165   0.567143     0.000022\n"
     ]
    }
   ],
   "source": [
    "import numpy as np\n",
    "import pandas as pd\n",
    "from scipy.interpolate import lagrange\n",
    "from scipy.optimize import fsolve\n",
    "\n",
    "# 提供的數據點 (y, x)，進行反向插值\n",
    "y_points = np.array([0.740818, 0.670320, 0.606531, 0.548812])\n",
    "x_points = np.array([0.3, 0.4, 0.5, 0.6])\n",
    "\n",
    "# 定義方程式：x - exp(-x) = 0\n",
    "def equation(x):\n",
    "    return x - np.exp(-x)\n",
    "\n",
    "# 使用 fsolve 找出真實解，以作為比較標準\n",
    "true_root = fsolve(equation, 0.5)[0]\n",
    "\n",
    "# 計算不同階數的反向插值多項式來逼近根\n",
    "degrees = [1, 2, 3]\n",
    "inverse_interpolated_values = {}\n",
    "\n",
    "for degree in degrees:\n",
    "    poly = lagrange(y_points[:degree+1], x_points[:degree+1])\n",
    "    inverse_interpolated_values[f'Degree {degree}'] = poly(true_root)\n",
    "\n",
    "# 四次插值使用全部數據點\n",
    "poly_full = lagrange(y_points, x_points)\n",
    "inverse_interpolated_values['Degree 3'] = poly_full(true_root)\n",
    "\n",
    "# 計算誤差邊界\n",
    "error_bounds = {degree: abs(inverse_interpolated_values[degree] - true_root) for degree in inverse_interpolated_values}\n",
    "\n",
    "# 結果整理成 DataFrame\n",
    "results_df = pd.DataFrame({\n",
    "    'Interpolated Root': inverse_interpolated_values,\n",
    "    'True Root': true_root,\n",
    "    'Error Bound': error_bounds\n",
    "})\n",
    "\n",
    "print(results_df)"
   ]
  },
  {
   "cell_type": "code",
   "execution_count": 1,
   "id": "00dcc5aa-cd34-43d1-ad84-34a70d626b47",
   "metadata": {},
   "outputs": [
    {
     "name": "stdout",
     "output_type": "stream",
     "text": [
      "                                          Value\n",
      "(a) Position at t=10 s               768.960000\n",
      "    Speed at t=10 s (ft/s)            74.640000\n",
      "(b) First time exceeding 55 mph (s)    3.149149\n",
      "(c) Predicted Maximum Speed (ft/s)    92.041393\n"
     ]
    }
   ],
   "source": [
    "import numpy as np\n",
    "import pandas as pd\n",
    "from scipy.interpolate import CubicHermiteSpline\n",
    "\n",
    "# 給定的資料點\n",
    "T = np.array([0, 3, 5, 8, 13])\n",
    "D = np.array([0, 200, 375, 620, 990])\n",
    "V = np.array([75, 77, 80, 74, 72])\n",
    "\n",
    "# Hermite插值\n",
    "hermite_poly = CubicHermiteSpline(T, D, V)\n",
    "\n",
    "# (a) 預測 t=10秒 的位置與速度\n",
    "position_at_10 = hermite_poly(10)\n",
    "speed_at_10 = hermite_poly.derivative()(10)\n",
    "\n",
    "# (b) 判斷速度是否超過55 mph (轉換成 feet/s)\n",
    "speed_limit = 55 * 1.46667\n",
    "\n",
    "# 在時間範圍內尋找首次超速的時刻\n",
    "time_fine = np.linspace(0, 13, 1000)\n",
    "speeds = hermite_poly.derivative()(time_fine)\n",
    "exceed_indices = np.where(speeds > speed_limit)[0]\n",
    "first_exceed_time = time_fine[exceed_indices[0]] if exceed_indices.size > 0 else None\n",
    "\n",
    "# (c) 預測最大速度\n",
    "max_speed = np.max(speeds)\n",
    "\n",
    "# 結果彙整\n",
    "results = {\n",
    "    \"(a) Position at t=10 s\": position_at_10,\n",
    "    \"    Speed at t=10 s (ft/s)\": speed_at_10,\n",
    "    \"(b) First time exceeding 55 mph (s)\": first_exceed_time,\n",
    "    \"(c) Predicted Maximum Speed (ft/s)\": max_speed\n",
    "}\n",
    "\n",
    "# 顯示結果\n",
    "results_df = pd.DataFrame.from_dict(results, orient='index', columns=['Value'])\n",
    "print(results_df)\n"
   ]
  },
  {
   "cell_type": "code",
   "execution_count": null,
   "id": "01344bbd-2900-4ecf-abb5-1ed179e2a51d",
   "metadata": {},
   "outputs": [],
   "source": []
  }
 ],
 "metadata": {
  "kernelspec": {
   "display_name": "Python (PyTorch CPU)",
   "language": "python",
   "name": "pytorch_cpu"
  },
  "language_info": {
   "codemirror_mode": {
    "name": "ipython",
    "version": 3
   },
   "file_extension": ".py",
   "mimetype": "text/x-python",
   "name": "python",
   "nbconvert_exporter": "python",
   "pygments_lexer": "ipython3",
   "version": "3.10.16"
  }
 },
 "nbformat": 4,
 "nbformat_minor": 5
}
